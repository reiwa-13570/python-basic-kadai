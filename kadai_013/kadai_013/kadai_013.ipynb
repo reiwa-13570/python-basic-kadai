{
  "nbformat": 4,
  "nbformat_minor": 0,
  "metadata": {
    "colab": {
      "provenance": []
    },
    "kernelspec": {
      "name": "python3",
      "display_name": "Python 3"
    },
    "language_info": {
      "name": "python"
    }
  },
  "cells": [
    {
      "cell_type": "code",
      "source": [
        "def product_amount_tax(price,tax):\n",
        "    return price + (price * tax / 100)\n",
        "\n",
        "print(product_amount_tax(110,10))"
      ],
      "metadata": {
        "colab": {
          "base_uri": "https://localhost:8080/"
        },
        "id": "YldH4Qp3qez3",
        "outputId": "cc81d54b-93b3-45c7-bf5e-4c48ab28aa04"
      },
      "execution_count": 4,
      "outputs": [
        {
          "output_type": "stream",
          "name": "stdout",
          "text": [
            "121.0\n"
          ]
        }
      ]
    }
  ]
}