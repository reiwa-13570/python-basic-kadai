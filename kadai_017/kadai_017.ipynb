{
  "nbformat": 4,
  "nbformat_minor": 0,
  "metadata": {
    "colab": {
      "provenance": []
    },
    "kernelspec": {
      "name": "python3",
      "display_name": "Python 3"
    },
    "language_info": {
      "name": "python"
    }
  },
  "cells": [
    {
      "cell_type": "code",
      "execution_count": 1,
      "metadata": {
        "colab": {
          "base_uri": "https://localhost:8080/"
        },
        "id": "CvFKwscSO2Yg",
        "outputId": "324795d1-a185-4757-907f-5ec92cb09110"
      },
      "outputs": [
        {
          "output_type": "stream",
          "name": "stdout",
          "text": [
            "太郎: 大人です\n",
            "花子: 大人ではありません\n"
          ]
        }
      ],
      "source": [
        "class Human:\n",
        "    def __init__(self, name, age):\n",
        "        self.name = name\n",
        "        self.age = age\n",
        "\n",
        "    def check_adult(self):\n",
        "        if self.age >= 20:\n",
        "            return \"大人です\"\n",
        "        else:\n",
        "            return \"大人ではありません\"\n",
        "\n",
        "# 使用例\n",
        "Human1 = Human(\"太郎\", 25)\n",
        "print(f\"{Human1.name}: {Human1.check_adult()}\")  # 出力：太郎: 大人です\n",
        "\n",
        "Human2 = Human(\"花子\", 18)\n",
        "print(f\"{Human2.name}: {Human2.check_adult()}\")  # 出力：花子: 大人ではありません"
      ]
    }
  ]
}