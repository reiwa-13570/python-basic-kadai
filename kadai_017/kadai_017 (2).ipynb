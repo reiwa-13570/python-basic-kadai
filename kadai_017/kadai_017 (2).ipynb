{
  "nbformat": 4,
  "nbformat_minor": 0,
  "metadata": {
    "colab": {
      "provenance": []
    },
    "kernelspec": {
      "name": "python3",
      "display_name": "Python 3"
    },
    "language_info": {
      "name": "python"
    }
  },
  "cells": [
    {
      "cell_type": "code",
      "source": [
        "class Human:\n",
        "    def __init__(self, name, age):\n",
        "        self.name = name\n",
        "        self.age = age\n",
        "\n",
        "    def check_adult(self):\n",
        "        if self.age >= 20:\n",
        "            print(f\"{self.name}さんは大人です\")\n",
        "        else:\n",
        "            print(f\"{self.name}さんは大人ではありません\")\n",
        "\n",
        "# 人クラスのインスタンスを複数生成してリストに追加\n",
        "humans = []\n",
        "humans.append(Human(\"太郎\", 25))\n",
        "humans.append(Human(\"花子\", 18))\n",
        "humans.append(Human(\"次郎\", 30))\n",
        "humans.append(Human(\"三郎\", 15))\n",
        "\n",
        "# リストの要素数分だけcheck_adultメソッドを呼び出す\n",
        "for human in humans:\n",
        "    human.check_adult()"
      ],
      "metadata": {
        "id": "lm2nIv769ZdQ",
        "colab": {
          "base_uri": "https://localhost:8080/"
        },
        "outputId": "68e9f6f2-ad5b-4e61-b54f-7d6b42e96202"
      },
      "execution_count": 6,
      "outputs": [
        {
          "output_type": "stream",
          "name": "stdout",
          "text": [
            "太郎さんは大人です\n",
            "花子さんは大人ではありません\n",
            "次郎さんは大人です\n",
            "三郎さんは大人ではありません\n"
          ]
        }
      ]
    }
  ]
}