{
  "nbformat": 4,
  "nbformat_minor": 0,
  "metadata": {
    "colab": {
      "provenance": []
    },
    "kernelspec": {
      "name": "python3",
      "display_name": "Python 3"
    },
    "language_info": {
      "name": "python"
    }
  },
  "cells": [
    {
      "cell_type": "code",
      "execution_count": 3,
      "metadata": {
        "colab": {
          "base_uri": "https://localhost:8080/"
        },
        "id": "CvFKwscSO2Yg",
        "outputId": "a4702c99-e1ce-430b-c112-d5cf6383acea"
      },
      "outputs": [
        {
          "output_type": "stream",
          "name": "stdout",
          "text": [
            "ichiro (19): no adult\n",
            "jiro (20): adult\n",
            "saburo (21): adult\n"
          ]
        }
      ],
      "source": [
        "class Human:\n",
        "    def __init__(self, name, age):\n",
        "        self.name = name\n",
        "        self.age = age\n",
        "\n",
        "    def check_adult(self):\n",
        "        if self.age < 20:\n",
        "            return \"no adult\"\n",
        "        else:\n",
        "            return \"adult\"\n",
        "\n",
        "humans = [\n",
        "    Human('ichiro', 19),\n",
        "    Human('jiro', 20),\n",
        "    Human('saburo', 21)\n",
        "]\n",
        "\n",
        "for human in humans:\n",
        "    is_adult = human.check_adult()\n",
        "    print(f\"{human.name} ({human.age}): {is_adult}\")"
      ]
    }
  ]
}