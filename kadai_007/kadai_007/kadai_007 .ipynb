{
  "nbformat": 4,
  "nbformat_minor": 0,
  "metadata": {
    "colab": {
      "provenance": []
    },
    "kernelspec": {
      "name": "python3",
      "display_name": "Python 3"
    },
    "language_info": {
      "name": "python"
    }
  },
  "cells": [
    {
      "cell_type": "code",
      "execution_count": null,
      "metadata": {
        "colab": {
          "base_uri": "https://localhost:8080/"
        },
        "id": "0ghd14VBUrY1",
        "outputId": "6276234a-975d-45c4-c1d7-ae781a8b438e"
      },
      "outputs": [
        {
          "output_type": "stream",
          "name": "stdout",
          "text": [
            "月曜日は晴れです\n",
            "火曜日は雨です\n",
            "水曜日は晴れです\n",
            "木曜日は晴れです\n",
            "金曜日は曇りです\n",
            "土曜日は曇りのち雨です\n",
            "日曜日は雷雨です\n"
          ]
        }
      ],
      "source": [
        "array = [\"月曜日は晴れです\",\"火曜日は雨です\",\"水曜日は晴れです\",\"木曜日は晴れです\",\"金曜日は曇りです\",\"土曜日は曇りのち雨です\",\"日曜日は雷雨です\"]\n",
        "\n",
        "for i in array:\n",
        "    print(i)"
      ]
    },
    {
      "cell_type": "code",
      "source": [
        "dictionary = {\"mon\":\"晴れ\",\"tue\":\"雨\",\"wed\":\"晴れ\",\"thu\":\"晴れ\",\"fri\":\"曇り\",\"sat\":\"曇りのち雨\",\"sun\":\"雷雨\",}\n",
        "\n",
        "for key, value in dictionary.items():\n",
        "    print(key, value)"
      ],
      "metadata": {
        "colab": {
          "base_uri": "https://localhost:8080/"
        },
        "id": "iIce669tYjRc",
        "outputId": "c35ba8d8-f209-474c-d9d1-34db62f8470c"
      },
      "execution_count": null,
      "outputs": [
        {
          "output_type": "stream",
          "name": "stdout",
          "text": [
            "mon 晴れ\n",
            "tue 雨\n",
            "wed 晴れ\n",
            "thu 晴れ\n",
            "fri 曇り\n",
            "sat 曇りのち雨\n",
            "sun 雷雨\n"
          ]
        }
      ]
    },
    {
      "cell_type": "code",
      "source": [
        "print(array[2])\n",
        "\n",
        "print(dictionary[\"wed\"])"
      ],
      "metadata": {
        "colab": {
          "base_uri": "https://localhost:8080/"
        },
        "id": "I0HEeuIYqE6m",
        "outputId": "fb2cddae-ca36-4b69-b65f-33d638b7a2cc"
      },
      "execution_count": 5,
      "outputs": [
        {
          "output_type": "stream",
          "name": "stdout",
          "text": [
            "水曜日は晴れです\n",
            "晴れ\n"
          ]
        }
      ]
    }
  ]
}